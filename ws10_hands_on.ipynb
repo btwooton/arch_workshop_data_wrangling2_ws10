{
 "cells": [
  {
   "cell_type": "code",
   "execution_count": null,
   "id": "6c38bbb0-4f08-4298-9f11-cc4e51091817",
   "metadata": {},
   "outputs": [],
   "source": [
    "import pandas as pd\n",
    "import numpy as np\n",
    "from matplotlib import pyplot as plt\n",
    "import seaborn as sns\n",
    "import os\n",
    "import scipy as sp\n",
    "from tqdm import tqdm"
   ]
  },
  {
   "cell_type": "markdown",
   "id": "f139c937-70ef-4cb7-a790-dc21feb7a01e",
   "metadata": {},
   "source": [
    "# I) Investigating Diabetes Trends in the Synthea Data\n",
    "\n",
    "In this module, we will:\n",
    "1. Load and explore synthetic EHR data generated using Synthea.\n",
    "2. Identify patients diagnosed with Type 2 Diabetes using SNOMED CT codes.\n",
    "3. Analyze Hemoglobin A1C (HbA1c) levels in diabetic and non-diabetic patients.\n",
    "4. Visualize data distributions and perform statistical testing.\n",
    "5. Discuss findings and explore possible extensions."
   ]
  },
  {
   "cell_type": "markdown",
   "id": "fd46c133-00f2-4631-91f7-270a598965bb",
   "metadata": {},
   "source": [
    "## I.a) Loading of Relevant Data\n",
    "Data for 1,000 synthetic patients, divided into four states, was generated using the [Synthea tool](https://synthea.mitre.org/)\n",
    "This data is split into four separate directories\n",
    "```\n",
    "output_hi/ # patients in Hawaii\n",
    "output_ma/ # patients in Massacusetts\n",
    "output_tx/ # patients in Texas\n",
    "output_wa/ # patients in Washington\n",
    "```"
   ]
  },
  {
   "cell_type": "markdown",
   "id": "896e3efc-e027-4d74-93af-7c6e83142bb1",
   "metadata": {},
   "source": [
    "In part 1 of this two workshop series, we worked exclusively with the patient demographics data stored in patients.parquet\n",
    "For the subsequent investigation, we will be relying on data stored across three new files:\n",
    "- `conditions.parquet`: Stores SNOMED CT coded patient conditions and diagnoses\n",
    "- `observations.parquet`: Includes vital signs and LOINC coded lab results for all patients\n",
    "- `medications.parquet`: Tracks RxNorm coded medication prescribing and dispensing/fill data for all patients \\\n",
    "Below is a convenience function that can be used to load the concatenated conditions, observations, and medications for all states\n",
    "into a single data frame"
   ]
  },
  {
   "cell_type": "code",
   "execution_count": null,
   "id": "ec9679dc-0057-49f4-87e2-662372484a7a",
   "metadata": {},
   "outputs": [],
   "source": [
    "def load_data_for_file(filename):\n",
    "    print(f\"Loading data for {filename}\")\n",
    "    url_prefix = \"https://github.com/expmed/arch_workshop_data_wrangling2_ws10/raw/refs/heads/main/data/\"\n",
    "    df = pd.concat([ # use pd.concat to append/concatenate the data for all states together into a single frame\n",
    "        pd.read_parquet(f\"{url_prefix}{output_dir}/parquet/{filename}\") # use read_csv to load the data from each output directory\n",
    "        for output_dir in tqdm(['output_hi_small', 'output_ma_small', 'output_tx_small', 'output_wa_small']) # loop over each output directory\n",
    "    ])\n",
    "    return df"
   ]
  },
  {
   "cell_type": "code",
   "execution_count": null,
   "id": "b6f9a40c-fcf9-40fd-bc04-11bba466f027",
   "metadata": {},
   "outputs": [],
   "source": [
    "# load in the patients, conditions, observations, and medications data\n",
    "patients = load_data_for_file('patients.parquet')\n",
    "conditions = load_data_for_file('conditions.parquet')\n",
    "observations = load_data_for_file('observations.parquet')\n",
    "medications = load_data_for_file('medications.parquet')"
   ]
  },
  {
   "cell_type": "code",
   "execution_count": null,
   "id": "0b88fada",
   "metadata": {},
   "outputs": [],
   "source": [
    "patients"
   ]
  },
  {
   "cell_type": "code",
   "execution_count": null,
   "id": "e76234ae-1250-46cc-9a46-00a0bad90b2f",
   "metadata": {},
   "outputs": [],
   "source": [
    "conditions"
   ]
  },
  {
   "cell_type": "code",
   "execution_count": null,
   "id": "7f21e3ff-782c-4932-b818-ef3f01a68bd8",
   "metadata": {},
   "outputs": [],
   "source": [
    "observations"
   ]
  },
  {
   "cell_type": "code",
   "execution_count": null,
   "id": "4fbc1972",
   "metadata": {},
   "outputs": [],
   "source": [
    "medications"
   ]
  },
  {
   "cell_type": "markdown",
   "id": "1c4605a2-d1ee-4113-a343-36e34660e94a",
   "metadata": {},
   "source": [
    "## I.b) Selecting Patients with Type 2 Diabetes Diagnoses\n",
    "For this investigation, we are interested in patients who have been diagnosed with Type 2 Diabetes \\\n",
    "In order to do this, we filter the conditions table to get all diagnoses of type 2 diabetes \\\n",
    "We can use the SNOMED CT code for type 2 diabetes: `44054006`"
   ]
  },
  {
   "cell_type": "code",
   "execution_count": null,
   "id": "1fa17dea-38b5-4b3e-bfec-bfbf32d03935",
   "metadata": {},
   "outputs": [],
   "source": [
    "diabetes = conditions.query('CODE == 44054006') # we could also use a substring search if we didn't know the code"
   ]
  },
  {
   "cell_type": "code",
   "execution_count": null,
   "id": "f4263386-1a47-4172-8e25-acbd102f6ada",
   "metadata": {},
   "outputs": [],
   "source": [
    "diabetes"
   ]
  },
  {
   "cell_type": "code",
   "execution_count": null,
   "id": "2e048ba1-1310-4f68-b63a-f4d14ba9305a",
   "metadata": {},
   "outputs": [],
   "source": [
    "# count the unique patients with Type 2 diabetes \n",
    "# (NOTE: Not always the same as the number shown above for rows, as patients will often have repeat diagnoses depending on the condition/disorder)\n",
    "diabetes['PATIENT'].nunique()"
   ]
  },
  {
   "cell_type": "markdown",
   "id": "0c44f42e-6c07-4d96-9c4e-9878c609b56d",
   "metadata": {},
   "source": [
    "## I.c) Analysis of Hemoglobin A1c (HbA1c) Labs in Type 2 and Non-Type 2 patients\n",
    "Now we will analyze Hemoglobin A1C levels for patients with and without a diabetes diagnosis \\\n",
    "To do this, we first filter the observations table for all hemoglobin A1C lab results \\\n",
    "We can use LOINC code: `4548-4`"
   ]
  },
  {
   "cell_type": "code",
   "execution_count": null,
   "id": "10ec01a6-ce10-4667-8270-17fa169142fa",
   "metadata": {},
   "outputs": [],
   "source": [
    "hemoglobin_a1c = observations[observations['CODE'] == '4548-4']"
   ]
  },
  {
   "cell_type": "code",
   "execution_count": null,
   "id": "bda0e795-f925-4ca4-98e4-fadd9eedfecf",
   "metadata": {},
   "outputs": [],
   "source": [
    "hemoglobin_a1c"
   ]
  },
  {
   "cell_type": "markdown",
   "id": "12f1f3e3-4eb9-4f2c-8dce-6c8882e36a52",
   "metadata": {},
   "source": [
    "Next we will add another variable/column to the hemoglobin_a1c data to label patients with/without a Type 2 diabetes diagnosis\n",
    "Here we are performing multiple operations in a single line:\n",
    "1. The outermost operation is a call to `hemoglobin_a1c.assign()` to assign a new variable/column to the dataframe of HbA1c labs\n",
    "2. To the new variable `HASDIABETES`, we are assigning a series\n",
    "3. The series we are assigning is a boolean series created by calling the `.isin()` method, effectively asking if the `PATIENT` ID of the record is in the set of IDs in the type 2 diabetes diagnoses\n",
    "4. On this boolean series (which by default has values `True` and `False`) we are transforming the values into integers (1 for True, 0 for False) using `.astype('int')` to convert to integers\n",
    "\n",
    "*NOTE:* We are cheating/simplifying somewhat. Really what we probably should do is label the HbA1c labs based on whether they occured before/after the diagnosis of Type 2 diabetes (within a certain time delta) to perhaps get a more accurate labeling of the labs. However, this would require creating an auxiliary data structure and lead to more complicated code, so we use this simpler approach for sake of brevity."
   ]
  },
  {
   "cell_type": "code",
   "execution_count": null,
   "id": "11a3bf96-fba2-43ec-ba57-0e724c0902a5",
   "metadata": {},
   "outputs": [],
   "source": [
    "hemoglobin_a1c_labeled = hemoglobin_a1c.assign(\n",
    "    HASDIABETES=hemoglobin_a1c['PATIENT'].isin(diabetes['PATIENT']).astype('int')\n",
    ")"
   ]
  },
  {
   "cell_type": "code",
   "execution_count": null,
   "id": "58706fb0-7f91-4ed5-a5ee-4f8601fea2ea",
   "metadata": {},
   "outputs": [],
   "source": [
    "hemoglobin_a1c_labeled"
   ]
  },
  {
   "cell_type": "markdown",
   "id": "48906d21-704e-436c-8245-decd0db09912",
   "metadata": {},
   "source": [
    "Now we will plot the distributions of A1C in the two groups using the Seaborn package \\\n",
    "and display summary statistics for both"
   ]
  },
  {
   "cell_type": "code",
   "execution_count": null,
   "id": "6d263a52-8cde-4dff-81af-964a4fb161ef",
   "metadata": {},
   "outputs": [],
   "source": [
    "# plot a Kernel Density Estimate of the distrubtion (probability density function) of Hemoglobin A1C lab measurements for Type 2 and Non Type 2 Patients\n",
    "sns.kdeplot(hemoglobin_a1c_labeled.query('HASDIABETES == 1')['VALUE'].astype('float'), label=\"With Diabetes\", color=\"red\", alpha=0.4, common_norm=False)\n",
    "sns.kdeplot(hemoglobin_a1c_labeled.query('HASDIABETES == 0')['VALUE'].astype('float'), label=\"Without Diabetes\", color=\"blue\", alpha=0.4, common_norm=False)\n",
    "# add a legend\n",
    "plt.legend()\n",
    "# change label of the xaxis\n",
    "plt.xlabel('HbA1C (%)')\n",
    "plt.show()"
   ]
  },
  {
   "cell_type": "code",
   "execution_count": null,
   "id": "52b7e525-03c1-4602-b09e-5a8ad6839823",
   "metadata": {},
   "outputs": [],
   "source": [
    "# use seaborn to create a violin plot of the two distributions\n",
    "sns.violinplot(\n",
    "    hemoglobin_a1c_labeled.astype({'VALUE': float}),\n",
    "    x='HASDIABETES',\n",
    "    y='VALUE'\n",
    ")\n",
    "# change the label of the y-axis\n",
    "plt.ylabel('HbA1C (%)')\n",
    "plt.show()"
   ]
  },
  {
   "cell_type": "markdown",
   "id": "bfe7a81c-5aaf-48c9-a254-eaaac295b324",
   "metadata": {},
   "source": [
    "The U.S. CDC has the following reference values published for Hemoglobin A1C\n",
    "\n",
    "Normal: below 5.7% \\\n",
    "Prediabetes: 5.7% to 6.4% \\\n",
    "Diabetes: 6.5% or above \n",
    "\n",
    "In looking at the distribution plots above, we see that patients without a Type 2 diabetes diagnosis have an A1c distribution that is bi-modal, with one mode below 5.7% and another within the Pre-diabetes range of 5.7% to 6.4%\n",
    "\n",
    "We also see that the patients with Type 2 diabetes diagnosis have a multi-modal HbA1c distribution, and a long tail that extends as high as to roughly 12%"
   ]
  },
  {
   "cell_type": "code",
   "execution_count": null,
   "id": "a1008455-6a16-420c-80b3-835468bfa476",
   "metadata": {},
   "outputs": [],
   "source": [
    "hemoglobin_a1c_labeled.astype({'VALUE': 'float'}).groupby('HASDIABETES')['VALUE'].describe()"
   ]
  },
  {
   "cell_type": "markdown",
   "id": "45a34282-21ed-4b63-9019-080e6e3dde93",
   "metadata": {},
   "source": [
    "If we want to quantify whether there is a significant difference in the two distributions \\\n",
    "one option is the use the Mann-Whitney U (Wilcoxon rank-sum) test \\\n",
    "provided by scipy's `mannwhitneyu()` function.\n",
    "\n",
    "Another test we can perform is the Kolmogorov Smirnov test to test for subtle differences in shape of the two distributions.\n",
    "We can perform a two-sample KS test using Scipy's `ks_2samp()` function.\n",
    "\n",
    "The Mann-Whitney U test is mostly sensitive to changes in the median.\n",
    "The KS test is sensitive to any differences in the two distributions (shape, spread, or median)"
   ]
  },
  {
   "cell_type": "code",
   "execution_count": null,
   "id": "250e2fa6-1b1d-40d9-b8f6-a192b0c38be3",
   "metadata": {},
   "outputs": [],
   "source": [
    "from scipy.stats import mannwhitneyu\n",
    "from scipy.stats import ks_2samp"
   ]
  },
  {
   "cell_type": "code",
   "execution_count": null,
   "id": "12c092b2-174a-4288-9ff8-c230155b4fbe",
   "metadata": {},
   "outputs": [],
   "source": [
    "U1, p = mannwhitneyu(\n",
    "    hemoglobin_a1c_labeled.query('HASDIABETES == 1')['VALUE'].astype('float'),\n",
    "    hemoglobin_a1c_labeled.query('HASDIABETES == 0')['VALUE'].astype('float'), \n",
    "    method=\"auto\"\n",
    ")"
   ]
  },
  {
   "cell_type": "code",
   "execution_count": null,
   "id": "f43e0e35-2b15-4f92-a83c-833d9901b0ea",
   "metadata": {},
   "outputs": [],
   "source": [
    "print(f\"U1: {U1}, p-value: {p}\")"
   ]
  },
  {
   "cell_type": "code",
   "execution_count": null,
   "id": "28d19bb0",
   "metadata": {},
   "outputs": [],
   "source": [
    "statistic, p_value = ks_2samp(\n",
    "    hemoglobin_a1c_labeled.query('HASDIABETES == 1')['VALUE'].astype('float'),\n",
    "    hemoglobin_a1c_labeled.query('HASDIABETES == 0')['VALUE'].astype('float')\n",
    ")"
   ]
  },
  {
   "cell_type": "code",
   "execution_count": null,
   "id": "42d72903",
   "metadata": {},
   "outputs": [],
   "source": [
    "print(f\"KS Statistic: {statistic}, p-value: {p_value}\")"
   ]
  },
  {
   "cell_type": "markdown",
   "id": "766af7b0-68b6-45e0-9b1d-866593ee0202",
   "metadata": {},
   "source": [
    "# Discussion Points\n",
    "1. Why is it that we observe a bi-modal distribution in A1C values among patients without a Type 2 Diabetes diagnosis?\n",
    "2. Why do we observe right skewness and high A1C outliers in diabetic patients, while the medians of the two distributions are statistically close? What biological or clinical factors might explain this?\n",
    "3. Why do we observe modes of the HbA1c distribution within the normal range for Type 2 diabetes patients?\n",
    "4. How can we extend this analysis to add additional nuance (additional lab tests, adding data from other tables, partitioning patients further based on \\\n",
    "   other diagnoses, medications, demographics etc)?"
   ]
  },
  {
   "cell_type": "markdown",
   "id": "3d4159d5-115a-46da-bc67-7fdbf01f130b",
   "metadata": {},
   "source": [
    "# II. Open Ended Exploration & Extensions to Initial Analysis\n",
    "Try to see if you can extend the initial analysis that we did on Hemoglobin A1C and diabetes\n",
    "\n",
    "1. Are there any other labs that you could pull data for and compare distributions for between Type-2 and non-Type2 patients\n",
    "2. Could you further subdivide the Type 2 and non-Type 2 patients into additional subsets based on other diagnoses/demographics/medication status?\n"
   ]
  },
  {
   "cell_type": "markdown",
   "id": "71a9c477-fdb4-4749-816e-596096c30efc",
   "metadata": {},
   "source": [
    "**Click Below for Hints**"
   ]
  },
  {
   "cell_type": "markdown",
   "id": "2a9e320a-538f-45fd-af65-de72180e9e76",
   "metadata": {},
   "source": [
    "<details>\n",
    "    <summary>Hint 1</summary>\n",
    "    <p>The medications table has both a <code>'REASONCODE'</code> abd <code>'REASONDESCRIPTION'</code> column which describe why the medication was prescribed</p>\n",
    "</details>\n",
    "<details>\n",
    "    <summary>Hint 2</summary>\n",
    "    <p>If you aren't sure which LOINC to query for a particular lab for, you can always use the <code>Series.str.contains('_PATTERN_', case=False)</code> technique to perform a string search</p>\n",
    "</details>\n",
    "<details>\n",
    "    <summary>Hint 3</summary>\n",
    "    <p>If you want to search for the SNOMED CT code for other diagnoses, such as Pre-diabetes, you can do that via <a href=\"https://browser.ihtsdotools.org/?perspective=full&conceptId1=9414007&edition=MAIN/2025-06-01&release=&languages=en\">SNOMED Browser</a></p>\n",
    "    <p> You can also take advantage of string/keyword search, again via <code>Series.str.contains('_PATTERN_', case=False)</code></p>\n",
    "</details>"
   ]
  }
 ],
 "metadata": {
  "kernelspec": {
   "display_name": "Python 3 (ipykernel)",
   "language": "python",
   "name": "python3"
  }
 },
 "nbformat": 4,
 "nbformat_minor": 5
}
